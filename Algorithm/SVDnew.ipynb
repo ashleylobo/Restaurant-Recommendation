{
 "cells": [
  {
   "cell_type": "code",
   "execution_count": 1,
   "metadata": {
    "_cell_guid": "f368523d-9435-45de-a458-04ed5202342b",
    "_uuid": "3588092b447848f3682e38030fbf5944591554e0"
   },
   "outputs": [],
   "source": [
    "import numpy as np \n",
    "import pandas as pd\n",
    "import matplotlib.pyplot as plt\n",
    "import random\n",
    "from sklearn.metrics import mean_squared_error\n",
    "from scipy.optimize import minimize\n",
    "\n",
    "# Note that there are no NANs in these data; '?' is\n",
    "# used when there is missing information\n",
    "accepts = pd.read_csv('../Data/chefmozaccepts.csv')\n",
    "cuisine = pd.read_csv('../Data/chefmozcuisine.csv')\n",
    "hours = pd.read_csv('../Data/chefmozhours4.csv')\n",
    "parking = pd.read_csv('../Data/chefmozparking.csv')\n",
    "geo = pd.read_csv('../Data/geoplaces2.csv') \n",
    "usercuisine = pd.read_csv('../Data/usercuisine.csv')\n",
    "payment = pd.read_csv('../Data/userpayment.csv')\n",
    "profile = pd.read_csv('../Data/userprofile.csv')\n",
    "rating = pd.read_csv('../Data/rating_final.csv')"
   ]
  },
  {
   "cell_type": "code",
   "execution_count": 2,
   "metadata": {
    "_cell_guid": "04237c0c-47a7-4d47-b965-736d748a026b",
    "_uuid": "725e60c128515d6d3b313900b39518a36b2e92db"
   },
   "outputs": [],
   "source": [
    "res_all = np.concatenate((accepts.placeID.unique(), cuisine.placeID.unique(), \n",
    "                          hours.placeID.unique(), parking.placeID.unique(), geo.placeID.unique()))\n",
    "res_all = np.sort( np.unique(res_all) ) # All the placeID's\n"
   ]
  },
  {
   "cell_type": "code",
   "execution_count": 3,
   "metadata": {
    "_cell_guid": "f9398dd1-d673-4845-b94f-1c59805066ea",
    "_uuid": "4d70cc2a98852c666489d8e033c1e5097a5fbd1a"
   },
   "outputs": [],
   "source": [
    "user_all = np.concatenate((usercuisine.userID.unique(), payment.userID.unique(), \n",
    "                           profile.userID.unique()))\n",
    "user_all = np.sort( np.unique(user_all) ) # All the userID's\n"
   ]
  },
  {
   "cell_type": "code",
   "execution_count": 4,
   "metadata": {
    "_cell_guid": "4005d6b5-4d4e-425f-b1ab-2bb6b8343363",
    "_uuid": "d60b2e55de439cc8548b12d4a9136219c9f8f288"
   },
   "outputs": [],
   "source": [
    "overall_rating = pd.DataFrame( np.zeros((len(res_all),len(user_all)))-1.0, \n",
    "                              columns=user_all, index=res_all )\n",
    "food_rating = overall_rating.copy()\n",
    "service_rating = overall_rating.copy() \n",
    "\n",
    "for r, u, o, f, s in zip(rating.placeID, rating.userID, rating.rating, rating.food_rating, \n",
    "                         rating.service_rating):\n",
    "    overall_rating.loc[r,u] = o\n",
    "    food_rating.loc[r,u] = f\n",
    "    service_rating.loc[r,u] = s"
   ]
  },
  {
   "cell_type": "code",
   "execution_count": 5,
   "metadata": {
    "_cell_guid": "a3c240fc-03e3-4dfb-9c1f-b602c6601657",
    "_uuid": "3fa4e11df554f63e198892d9e75c3e90fca7fd01"
   },
   "outputs": [],
   "source": [
    "review = pd.DataFrame( np.zeros(overall_rating.shape), columns=user_all, index=res_all)\n",
    "review[overall_rating >= 0] = 1"
   ]
  },
  {
   "cell_type": "code",
   "execution_count": 6,
   "metadata": {
    "_cell_guid": "685b28a5-3f89-4d0d-a1ec-cb850d9d831d",
    "_uuid": "ea32aae3cc20f8ed85f8a83060aee4073af7e398"
   },
   "outputs": [
    {
     "name": "stdout",
     "output_type": "stream",
     "text": [
      "     placeID  Rcuisine_Afghan  Rcuisine_African  Rcuisine_American  \\\n",
      "0     132001                0                 0                  0   \n",
      "1     132002                0                 0                  0   \n",
      "2     132003                0                 0                  0   \n",
      "3     132004                0                 0                  0   \n",
      "4     132005                0                 0                  0   \n",
      "5     132006                0                 0                  0   \n",
      "6     132007                0                 0                  0   \n",
      "7     132008                0                 0                  0   \n",
      "8     132009                0                 0                  0   \n",
      "9     132010                0                 0                  0   \n",
      "10    132012                0                 0                  0   \n",
      "11    132013                0                 0                  0   \n",
      "12    132014                0                 0                  0   \n",
      "13    132015                0                 0                  0   \n",
      "14    132016                0                 0                  0   \n",
      "15    132017                0                 0                  0   \n",
      "16    132018                0                 0                  0   \n",
      "17    132019                0                 0                  0   \n",
      "18    132020                0                 0                  0   \n",
      "19    132021                0                 0                  0   \n",
      "20    132022                0                 0                  0   \n",
      "21    132023                0                 0                  0   \n",
      "22    132024                0                 0                  0   \n",
      "23    132025                0                 0                  0   \n",
      "24    132026                0                 0                  0   \n",
      "25    132028                0                 0                  0   \n",
      "26    132030                0                 0                  0   \n",
      "27    132031                0                 0                  0   \n",
      "28    132083                0                 0                  0   \n",
      "29    132087                0                 0                  0   \n",
      "..       ...              ...               ...                ...   \n",
      "739   135061                0                 0                  0   \n",
      "740   135069                0                 0                  0   \n",
      "741   135071                0                 0                  0   \n",
      "742   135072                0                 0                  0   \n",
      "743   135073                0                 0                  0   \n",
      "744   135074                0                 0                  0   \n",
      "745   135075                0                 0                  0   \n",
      "746   135079                0                 0                  0   \n",
      "747   135085                0                 0                  0   \n",
      "748   135086                0                 0                  0   \n",
      "749   135088                0                 0                  0   \n",
      "750   135089                0                 0                  0   \n",
      "751   135090                0                 0                  0   \n",
      "752   135091                0                 0                  0   \n",
      "753   135092                0                 0                  0   \n",
      "754   135093                0                 0                  0   \n",
      "755   135094                0                 0                  0   \n",
      "756   135097                0                 0                  0   \n",
      "757   135098                0                 0                  0   \n",
      "758   135099                0                 0                  0   \n",
      "759   135100                0                 0                  0   \n",
      "760   135101                0                 0                  0   \n",
      "761   135102                0                 0                  0   \n",
      "762   135103                0                 0                  0   \n",
      "763   135104                0                 0                  0   \n",
      "764   135105                0                 0                  0   \n",
      "765   135106                0                 0                  0   \n",
      "766   135107                0                 0                  0   \n",
      "767   135109                0                 0                  0   \n",
      "768   135110                0                 0                  0   \n",
      "\n",
      "     Rcuisine_Armenian  Rcuisine_Asian  Rcuisine_Bagels  Rcuisine_Bakery  \\\n",
      "0                    0               0                0                0   \n",
      "1                    0               0                0                0   \n",
      "2                    0               0                0                0   \n",
      "3                    0               0                0                0   \n",
      "4                    0               0                0                0   \n",
      "5                    0               0                0                0   \n",
      "6                    0               0                0                0   \n",
      "7                    0               0                0                0   \n",
      "8                    0               0                0                0   \n",
      "9                    0               0                0                0   \n",
      "10                   0               0                0                0   \n",
      "11                   0               0                0                0   \n",
      "12                   0               0                0                0   \n",
      "13                   0               0                0                0   \n",
      "14                   0               0                0                0   \n",
      "15                   0               0                0                0   \n",
      "16                   0               0                0                0   \n",
      "17                   0               0                0                0   \n",
      "18                   0               0                0                0   \n",
      "19                   0               0                0                0   \n",
      "20                   0               0                0                0   \n",
      "21                   0               0                0                0   \n",
      "22                   0               0                0                0   \n",
      "23                   0               0                0                0   \n",
      "24                   0               0                0                0   \n",
      "25                   0               0                0                0   \n",
      "26                   0               0                0                0   \n",
      "27                   0               0                0                0   \n",
      "28                   0               0                0                0   \n",
      "29                   0               0                0                0   \n",
      "..                 ...             ...              ...              ...   \n",
      "739                  0               0                0                0   \n",
      "740                  0               0                0                0   \n",
      "741                  0               0                0                0   \n",
      "742                  0               0                0                0   \n",
      "743                  0               0                0                0   \n",
      "744                  0               0                0                0   \n",
      "745                  0               0                0                0   \n",
      "746                  0               0                0                0   \n",
      "747                  0               0                0                0   \n",
      "748                  0               0                0                0   \n",
      "749                  0               0                0                0   \n",
      "750                  0               0                0                0   \n",
      "751                  0               0                0                0   \n",
      "752                  0               0                0                0   \n",
      "753                  0               0                0                0   \n",
      "754                  0               0                0                0   \n",
      "755                  0               0                0                0   \n",
      "756                  0               0                0                0   \n",
      "757                  0               0                0                0   \n",
      "758                  0               1                0                0   \n",
      "759                  0               0                0                0   \n",
      "760                  0               0                0                0   \n",
      "761                  0               0                0                0   \n",
      "762                  0               0                0                0   \n",
      "763                  0               0                0                0   \n",
      "764                  0               0                0                0   \n",
      "765                  0               0                0                0   \n",
      "766                  0               0                0                0   \n",
      "767                  0               0                0                0   \n",
      "768                  0               0                0                0   \n",
      "\n",
      "     Rcuisine_Bar  Rcuisine_Bar_Pub_Brewery         ...           \\\n",
      "0               0                         0         ...            \n",
      "1               0                         0         ...            \n",
      "2               0                         0         ...            \n",
      "3               0                         0         ...            \n",
      "4               0                         0         ...            \n",
      "5               0                         0         ...            \n",
      "6               0                         0         ...            \n",
      "7               0                         0         ...            \n",
      "8               0                         0         ...            \n",
      "9               0                         0         ...            \n",
      "10              0                         0         ...            \n",
      "11              0                         0         ...            \n",
      "12              0                         0         ...            \n",
      "13              0                         0         ...            \n",
      "14              0                         0         ...            \n",
      "15              0                         0         ...            \n",
      "16              0                         0         ...            \n",
      "17              0                         0         ...            \n",
      "18              0                         0         ...            \n",
      "19              0                         0         ...            \n",
      "20              0                         0         ...            \n",
      "21              0                         0         ...            \n",
      "22              0                         0         ...            \n",
      "23              0                         0         ...            \n",
      "24              0                         0         ...            \n",
      "25              0                         0         ...            \n",
      "26              0                         0         ...            \n",
      "27              0                         0         ...            \n",
      "28              0                         0         ...            \n",
      "29              0                         0         ...            \n",
      "..            ...                       ...         ...            \n",
      "739             0                         0         ...            \n",
      "740             1                         0         ...            \n",
      "741             1                         1         ...            \n",
      "742             0                         0         ...            \n",
      "743             1                         1         ...            \n",
      "744             0                         0         ...            \n",
      "745             0                         0         ...            \n",
      "746             0                         0         ...            \n",
      "747             0                         0         ...            \n",
      "748             0                         0         ...            \n",
      "749             0                         0         ...            \n",
      "750             0                         0         ...            \n",
      "751             0                         0         ...            \n",
      "752             0                         0         ...            \n",
      "753             0                         0         ...            \n",
      "754             0                         0         ...            \n",
      "755             0                         0         ...            \n",
      "756             0                         0         ...            \n",
      "757             0                         0         ...            \n",
      "758             0                         0         ...            \n",
      "759             0                         0         ...            \n",
      "760             0                         0         ...            \n",
      "761             0                         0         ...            \n",
      "762             0                         0         ...            \n",
      "763             0                         0         ...            \n",
      "764             0                         0         ...            \n",
      "765             0                         0         ...            \n",
      "766             0                         0         ...            \n",
      "767             0                         0         ...            \n",
      "768             0                         0         ...            \n",
      "\n",
      "     Rcuisine_Soup  Rcuisine_Southern  Rcuisine_Southwestern  \\\n",
      "0                0                  0                      0   \n",
      "1                0                  0                      0   \n",
      "2                0                  0                      0   \n",
      "3                0                  0                      0   \n",
      "4                0                  0                      0   \n",
      "5                0                  0                      0   \n",
      "6                0                  0                      0   \n",
      "7                0                  0                      0   \n",
      "8                0                  0                      0   \n",
      "9                0                  0                      0   \n",
      "10               0                  0                      0   \n",
      "11               0                  0                      0   \n",
      "12               0                  0                      0   \n",
      "13               0                  0                      0   \n",
      "14               0                  0                      0   \n",
      "15               0                  0                      0   \n",
      "16               0                  0                      0   \n",
      "17               0                  0                      0   \n",
      "18               0                  0                      0   \n",
      "19               0                  0                      0   \n",
      "20               0                  0                      0   \n",
      "21               0                  0                      0   \n",
      "22               0                  0                      0   \n",
      "23               0                  0                      0   \n",
      "24               0                  0                      0   \n",
      "25               0                  0                      0   \n",
      "26               0                  0                      0   \n",
      "27               0                  0                      0   \n",
      "28               0                  0                      0   \n",
      "29               0                  0                      0   \n",
      "..             ...                ...                    ...   \n",
      "739              0                  0                      0   \n",
      "740              0                  0                      0   \n",
      "741              0                  0                      0   \n",
      "742              0                  0                      0   \n",
      "743              0                  0                      0   \n",
      "744              0                  0                      0   \n",
      "745              0                  0                      0   \n",
      "746              0                  0                      0   \n",
      "747              0                  0                      0   \n",
      "748              0                  0                      0   \n",
      "749              0                  0                      0   \n",
      "750              0                  0                      0   \n",
      "751              0                  0                      0   \n",
      "752              0                  0                      0   \n",
      "753              0                  0                      0   \n",
      "754              0                  0                      0   \n",
      "755              0                  0                      0   \n",
      "756              0                  0                      0   \n",
      "757              0                  0                      0   \n",
      "758              0                  0                      0   \n",
      "759              0                  0                      0   \n",
      "760              0                  0                      0   \n",
      "761              0                  0                      0   \n",
      "762              0                  0                      0   \n",
      "763              0                  0                      0   \n",
      "764              0                  0                      0   \n",
      "765              0                  0                      0   \n",
      "766              0                  0                      0   \n",
      "767              0                  0                      0   \n",
      "768              0                  0                      0   \n",
      "\n",
      "     Rcuisine_Spanish  Rcuisine_Steaks  Rcuisine_Sushi  Rcuisine_Thai  \\\n",
      "0                   0                0               0              0   \n",
      "1                   0                0               0              0   \n",
      "2                   0                0               0              0   \n",
      "3                   0                0               0              0   \n",
      "4                   0                0               0              0   \n",
      "5                   0                0               0              0   \n",
      "6                   0                0               0              0   \n",
      "7                   0                0               0              0   \n",
      "8                   0                0               0              0   \n",
      "9                   0                0               0              0   \n",
      "10                  0                0               0              0   \n",
      "11                  0                0               0              0   \n",
      "12                  0                0               0              0   \n",
      "13                  0                0               0              0   \n",
      "14                  0                0               0              0   \n",
      "15                  0                0               0              0   \n",
      "16                  0                0               0              0   \n",
      "17                  0                0               0              0   \n",
      "18                  0                0               0              0   \n",
      "19                  0                0               0              0   \n",
      "20                  0                0               0              0   \n",
      "21                  0                0               0              0   \n",
      "22                  0                0               0              0   \n",
      "23                  0                0               0              0   \n",
      "24                  0                0               0              0   \n",
      "25                  0                0               0              0   \n",
      "26                  0                0               0              0   \n",
      "27                  0                0               0              0   \n",
      "28                  0                0               0              0   \n",
      "29                  0                0               0              0   \n",
      "..                ...              ...             ...            ...   \n",
      "739                 0                0               0              0   \n",
      "740                 0                0               0              0   \n",
      "741                 0                0               0              0   \n",
      "742                 0                0               0              0   \n",
      "743                 0                0               0              0   \n",
      "744                 0                0               0              0   \n",
      "745                 0                0               0              0   \n",
      "746                 0                0               0              0   \n",
      "747                 0                0               0              0   \n",
      "748                 0                0               0              0   \n",
      "749                 0                0               0              0   \n",
      "750                 0                0               0              0   \n",
      "751                 0                0               0              0   \n",
      "752                 0                0               1              0   \n",
      "753                 0                0               0              0   \n",
      "754                 0                0               0              0   \n",
      "755                 0                0               0              0   \n",
      "756                 0                0               0              0   \n",
      "757                 0                1               0              0   \n",
      "758                 0                1               0              0   \n",
      "759                 0                1               0              0   \n",
      "760                 0                1               0              0   \n",
      "761                 0                1               0              0   \n",
      "762                 0                0               0              0   \n",
      "763                 0                0               0              0   \n",
      "764                 0                0               0              0   \n",
      "765                 0                0               0              0   \n",
      "766                 0                0               0              0   \n",
      "767                 0                0               0              0   \n",
      "768                 1                0               0              0   \n",
      "\n",
      "     Rcuisine_Turkish  Rcuisine_Vegetarian  Rcuisine_Vietnamese  \n",
      "0                   0                    0                    0  \n",
      "1                   0                    0                    0  \n",
      "2                   0                    0                    0  \n",
      "3                   0                    0                    0  \n",
      "4                   0                    0                    0  \n",
      "5                   0                    0                    0  \n",
      "6                   0                    0                    0  \n",
      "7                   0                    0                    0  \n",
      "8                   0                    0                    0  \n",
      "9                   0                    0                    0  \n",
      "10                  0                    0                    0  \n",
      "11                  0                    0                    0  \n",
      "12                  0                    0                    0  \n",
      "13                  0                    0                    0  \n",
      "14                  0                    0                    0  \n",
      "15                  0                    0                    0  \n",
      "16                  0                    0                    0  \n",
      "17                  0                    0                    0  \n",
      "18                  0                    0                    0  \n",
      "19                  0                    0                    0  \n",
      "20                  0                    0                    0  \n",
      "21                  0                    0                    0  \n",
      "22                  0                    0                    0  \n",
      "23                  0                    0                    0  \n",
      "24                  0                    0                    0  \n",
      "25                  0                    0                    0  \n",
      "26                  0                    0                    0  \n",
      "27                  0                    0                    0  \n",
      "28                  0                    0                    0  \n",
      "29                  0                    0                    0  \n",
      "..                ...                  ...                  ...  \n",
      "739                 0                    0                    0  \n",
      "740                 0                    0                    0  \n",
      "741                 0                    0                    0  \n",
      "742                 0                    0                    0  \n",
      "743                 0                    0                    0  \n",
      "744                 0                    0                    0  \n",
      "745                 0                    0                    0  \n",
      "746                 0                    0                    0  \n",
      "747                 0                    0                    0  \n",
      "748                 0                    0                    0  \n",
      "749                 0                    0                    0  \n",
      "750                 0                    0                    0  \n",
      "751                 0                    0                    0  \n",
      "752                 0                    0                    0  \n",
      "753                 0                    0                    0  \n",
      "754                 0                    0                    0  \n",
      "755                 0                    0                    0  \n",
      "756                 0                    0                    0  \n",
      "757                 0                    0                    0  \n",
      "758                 0                    1                    0  \n",
      "759                 0                    0                    0  \n",
      "760                 0                    0                    0  \n",
      "761                 0                    0                    0  \n",
      "762                 0                    0                    0  \n",
      "763                 0                    0                    0  \n",
      "764                 0                    0                    0  \n",
      "765                 0                    0                    0  \n",
      "766                 0                    0                    0  \n",
      "767                 0                    0                    0  \n",
      "768                 0                    0                    0  \n",
      "\n",
      "[769 rows x 60 columns]\n"
     ]
    }
   ],
   "source": [
    "# use dummy variables for different cuisine categories of the restaurants\n",
    "res_cuisine = pd.get_dummies(cuisine,columns=['Rcuisine'])\n",
    "\n",
    "# remove duplicate restaurant ID's. \n",
    "# A restaurant with multiple cuisine categories would have multiple columns equal 1\n",
    "res_cuisine = res_cuisine.groupby('placeID',as_index=False).sum()\n",
    "\n",
    "print(res_cuisine)"
   ]
  },
  {
   "cell_type": "code",
   "execution_count": 7,
   "metadata": {
    "_cell_guid": "1f6ea1c7-f00c-4da3-9f85-ee161b19ddda",
    "_uuid": "b3f27f9a87d7ae5a6a49282be846c6334657987e"
   },
   "outputs": [],
   "source": [
    "# parking.parking_lot.value_counts()"
   ]
  },
  {
   "cell_type": "code",
   "execution_count": 8,
   "metadata": {
    "_cell_guid": "44436a1d-985c-4253-b814-47fcb9d2062c",
    "_uuid": "0e2d863ff86aedec07c015d9d04bae261e8c2cee"
   },
   "outputs": [],
   "source": [
    "res_parking = parking.copy()\n",
    "res_parking.parking_lot = res_parking.parking_lot.map({'fee':1, 'none':0, 'public':1, 'yes':2,\n",
    "                                        'street':1, 'valet parking':1, 'validated parking':1})\n",
    "\n",
    "# remove duplicate restaurant ID's. \n",
    "# A restaurant with multiple parking options may have a value > 2\n",
    "res_parking = res_parking.groupby('placeID',as_index=False).sum()"
   ]
  },
  {
   "cell_type": "code",
   "execution_count": 9,
   "metadata": {
    "_cell_guid": "2b07070d-cdde-4858-9e6e-a2199bac0e7f",
    "_uuid": "bc34ce90ef289636040539ed9647539c1d031719"
   },
   "outputs": [],
   "source": [
    "res_info = geo[['latitude','longitude','placeID','name','address','city','state']]\n",
    "\n",
    "# These features should be relevant for rating prediction since they are about services \n",
    "# and price. Especially, 'alcohol','smoking_area', and 'price' relate to 'drink_level', \n",
    "# 'smoker', and 'budget' in the user profiles \n",
    "res_service_price = geo[['placeID','alcohol','smoking_area','other_services','price']]\n"
   ]
  },
  {
   "cell_type": "code",
   "execution_count": 10,
   "metadata": {
    "_cell_guid": "6dc67073-b1c1-4cd3-bb74-410926b6a12e",
    "_uuid": "30a9d05fd8e52c47706fd3f82ba9f43d872c21f0"
   },
   "outputs": [
    {
     "name": "stderr",
     "output_type": "stream",
     "text": [
      "/home/ashley/anaconda3/lib/python3.6/site-packages/pandas/core/generic.py:4401: SettingWithCopyWarning: \n",
      "A value is trying to be set on a copy of a slice from a DataFrame.\n",
      "Try using .loc[row_indexer,col_indexer] = value instead\n",
      "\n",
      "See the caveats in the documentation: http://pandas.pydata.org/pandas-docs/stable/indexing.html#indexing-view-versus-copy\n",
      "  self[name] = value\n"
     ]
    }
   ],
   "source": [
    "# 1 if alcohol is available, 0 otherwise\n",
    "res_service_price.alcohol = res_service_price.alcohol.map(lambda x: 0 if x == 'No_Alcohol_Served' else 1)\n",
    "# 1 if there is smoking area, 0 otherwise\n",
    "res_service_price.smoking_area = res_service_price.smoking_area.map(lambda x: 0 if (x == 'none') | (x == 'not permitted') else 1)\n",
    "# 1 if other services are available, 0 otherwise\n",
    "res_service_price.other_services = res_service_price.other_services.map(lambda x: 0 if x == 'none'  else 1)\n",
    "# map price levels to numbers\n",
    "res_service_price.price = res_service_price.price.map({'low': 1, 'medium': 2, 'high': 3})"
   ]
  },
  {
   "cell_type": "code",
   "execution_count": 11,
   "metadata": {
    "_cell_guid": "79c80e77-000c-40d1-85a0-48ff838097db",
    "_uuid": "75eeee7561fd3d79351975f334ac9ad92138bfbc"
   },
   "outputs": [],
   "source": [
    "# Whether these features are relevant is not so clear\n",
    "res_environment = geo[['placeID','dress_code','accessibility','Rambience','area']]\n"
   ]
  },
  {
   "cell_type": "code",
   "execution_count": 12,
   "metadata": {
    "_cell_guid": "351dcb42-3876-4c82-b275-14b5f51d096a",
    "_uuid": "1ae494681d57ae611ed58212efc470ae244d67bb"
   },
   "outputs": [
    {
     "name": "stderr",
     "output_type": "stream",
     "text": [
      "/home/ashley/anaconda3/lib/python3.6/site-packages/pandas/core/generic.py:4401: SettingWithCopyWarning: \n",
      "A value is trying to be set on a copy of a slice from a DataFrame.\n",
      "Try using .loc[row_indexer,col_indexer] = value instead\n",
      "\n",
      "See the caveats in the documentation: http://pandas.pydata.org/pandas-docs/stable/indexing.html#indexing-view-versus-copy\n",
      "  self[name] = value\n"
     ]
    }
   ],
   "source": [
    "# 1 if formal dress is required, 0 otherwise\n",
    "res_environment.dress_code = res_environment.dress_code.map({'informal':0, 'casual':0, 'formal': 1})\n",
    "# map accessibility levels to numbers\n",
    "res_environment.accessibility = res_environment.accessibility.map({'no_accessibility':0, 'partially':1, 'completely': 2})\n",
    "res_environment.Rambience = res_environment.Rambience.map({'familiar':0, 'quiet': 1})\n",
    "res_environment.area = res_environment.area.map({'open':0, 'closed':1})"
   ]
  },
  {
   "cell_type": "code",
   "execution_count": 13,
   "metadata": {
    "_cell_guid": "80a93e9c-e5fe-40d8-9045-dda8cb937f5d",
    "_uuid": "69d4ff3cfe09859f83b4e5ca58e932544bb84f1a"
   },
   "outputs": [],
   "source": [
    "df_res = pd.DataFrame({'placeID': res_all})\n",
    "df_res = pd.merge(left=df_res, right=res_cuisine, how=\"left\", on=\"placeID\")\n",
    "df_res = pd.merge(left=df_res, right=res_parking, how=\"left\", on=\"placeID\")\n",
    "df_res = pd.merge(left=df_res, right=res_service_price, how=\"left\", on=\"placeID\")\n",
    "df_res = pd.merge(left=df_res, right=res_environment, how=\"left\", on=\"placeID\")\n"
   ]
  },
  {
   "cell_type": "code",
   "execution_count": 14,
   "metadata": {
    "_cell_guid": "39201fb2-2956-4e13-8a56-53400f6d5369",
    "_uuid": "e8fafb8a5252ed4b0473fad1301400cb67a08793"
   },
   "outputs": [],
   "source": [
    "# The placeID's for the 130 restaurants with ratings\n",
    "res_rated = res_all[np.sum(review,axis=1) > 0] \n",
    "\n",
    "# tells us whether a restaurant-user pair has a rating. 0 means No and 1 means Yes.\n",
    "R = review.loc[res_rated].values  # shape = (130,138)\n",
    "\n",
    "Y_service = service_rating.loc[res_rated].values\n",
    "Y_overall = overall_rating.loc[res_rated].values\n",
    "Y_food  = food_rating.loc[res_rated].values"
   ]
  },
  {
   "cell_type": "code",
   "execution_count": 15,
   "metadata": {
    "_cell_guid": "55cbfcc3-5fd0-4c41-9abd-0c66784a9942",
    "_uuid": "7d9491a307999ff35b86a3054ba7ead8cec56a8e"
   },
   "outputs": [],
   "source": [
    "# select the indices of \"df_res\" where a restaurant has ratings\n",
    "index = np.array([x in res_rated for x in df_res['placeID'].values])\n",
    "index = np.where(index == True)[0]\n",
    "# restaurant features for the 130 restaurants with ratings\n",
    "X = df_res.loc[index, :].reset_index(drop=True)"
   ]
  },
  {
   "cell_type": "code",
   "execution_count": 16,
   "metadata": {
    "_cell_guid": "e2e1090c-d419-4271-8fd6-b6da73042881",
    "_uuid": "8291e254d5a45d415f8a290171757741e5535168"
   },
   "outputs": [],
   "source": [
    "X = X.fillna(0) # fill all NANs with 0\n",
    "# drop a feature if the entire column are 0\n",
    "features_to_drop = X.columns.values[np.sum(X,axis=0) == 0] \n",
    "X = X.drop(features_to_drop, axis=1)\n",
    "X = X.drop(['placeID'], axis=1)\n",
    "# X.head()"
   ]
  },
  {
   "cell_type": "code",
   "execution_count": 17,
   "metadata": {
    "_cell_guid": "716eba8a-85df-43ac-b44a-f37ea091e4a7",
    "_uuid": "283a5f0c139f1226caa409026ff1a4896d42b51d"
   },
   "outputs": [],
   "source": [
    "X = X[['parking_lot','alcohol','smoking_area','other_services','price','dress_code','accessibility']]\n",
    "X['x0'] = 1 # add a bias term for linear regressions\n",
    "# X.head()"
   ]
  },
  {
   "cell_type": "code",
   "execution_count": 18,
   "metadata": {
    "_cell_guid": "2318903a-d2f5-4fa8-99e1-6cd448dff888",
    "_uuid": "6d5dc50580c48610b191f86ff5d748f90e8dac48"
   },
   "outputs": [],
   "source": [
    "num_rating = np.round(np.sum(R,axis=0)) # number of ratings from each user (minimum = 3)\n",
    "\n",
    "# 25% of the existing ratings will be used as the validation set\n",
    "# So during the training, they will be flagged \n",
    "g = lambda x: int(round(x*0.25)) \n",
    "flag = np.array( [g(x) for x in num_rating] )\n",
    "\n",
    "random.seed(0)\n",
    "cond = True\n",
    "\n",
    "while cond:\n",
    "\n",
    "    R_train = R.copy()\n",
    "\n",
    "    # loop over each user\n",
    "    for i in range(R_train.shape[1]):\n",
    "        # the restaurants that are rated\n",
    "        index = list( np.where(R_train[:,i] == 1)[0] )  \n",
    "        # randomly select about 25% of them to be flagged\n",
    "        index_flag = random.sample(index,flag[i])\n",
    "        R_train[index_flag,i] = 0  \n",
    "    \n",
    "    # make sure in the traning set, each restaurant and each user receives/gives at least \n",
    "    # 2 ratings\n",
    "    if (np.sum(R_train,axis=0).min() > 1) & (np.sum(R_train,axis=1).min() > 1): \n",
    "        cond = False\n",
    "        \n",
    "R_valid = R - R_train \n",
    "# Now \"R_train\" contains 876 ones, and \"R_valid\" contains 285 ones (\"R\" contains 1161 ones)\n",
    "# The shape of \"R\", \"R_train\" and \"R_valid\" are all (130,138)  \n",
    "# print(R_train.sum())\n",
    "# print(R_valid.sum())"
   ]
  },
  {
   "cell_type": "code",
   "execution_count": 19,
   "metadata": {
    "_cell_guid": "48202bad-5f64-493a-a360-97af80310f5a",
    "_uuid": "73040c76236c1625a8185c8b3f479c2b38f1db22"
   },
   "outputs": [],
   "source": [
    "# FCP\n",
    "def FCP(Y,Y_pred,R):\n",
    "    \n",
    "    # list of true ratings from each user (we only select users with at least two ratings)\n",
    "    Y_fcp = []  \n",
    "    Y_pred_fcp = [] # list of predicted ratings from each user \n",
    "    n_user = R.shape[1]\n",
    "    \n",
    "    for i in range(n_user):\n",
    "        \n",
    "        cond = (R.sum(axis=0) >= 2)[i] # there should be at least two ratings from a user\n",
    "        index = np.where( R[:,i] == 1)[0] # the indices (restaurants) with ratings\n",
    "    \n",
    "        if cond:\n",
    "            \n",
    "            Y_fcp.append( (Y*R)[:,i][index] )\n",
    "            Y_pred_fcp.append( (Y_pred*R)[:,i][index] )\n",
    "\n",
    "        \n",
    "    n_fcp = len(Y_fcp) # number of users with at least two ratings\n",
    "    TP = 0. # Total number of pairs\n",
    "    DP = 0. # number of discordant pairs\n",
    "    CP = 0. # number of concordant pairs (excluding ties)\n",
    "    \n",
    "    for i in range(n_fcp):\n",
    "        \n",
    "        num_Y = len(Y_fcp[i])   # number of ratings from a user\n",
    "        TP += num_Y*(num_Y-1)/2 # number of rating pairs = n*(n+1)/2 \n",
    "\n",
    "        greater = np.array([])\n",
    "        greater_pred = np.array([])\n",
    "\n",
    "        # this loop is to go over all the rating pairs\n",
    "        for j in range(num_Y-1):\n",
    "            \n",
    "            not_equal = Y_fcp[i][j] != Y_fcp[i][j+1:]\n",
    "            greater = Y_fcp[i][j] > Y_fcp[i][j+1:]\n",
    "            greater_pred = Y_pred_fcp[i][j] > Y_pred_fcp[i][j+1:]\n",
    "\n",
    "            # filter the ones that are not ties\n",
    "            greater = greater[not_equal]\n",
    "            greater_pred = greater_pred[not_equal]\n",
    "\n",
    "            DP += (greater != greater_pred).sum()\n",
    "            CP += (greater == greater_pred).sum()\n",
    "            \n",
    "#     print(\"Total number of rating pairs: {}\".format(int(TP)))\n",
    "#     print(\"Total number of discordant pairs: {}\".format(int(DP)))\n",
    "#     print(\"Total number of concordant pairs: {}\".format(int(CP)))\n",
    "#     print(\"Total number of ties: {}\".format(int(TP-DP-CP)))\n",
    "#     print(\"FCP: {}\".format(CP/(CP+DP)))\n"
   ]
  },
  {
   "cell_type": "code",
   "execution_count": 20,
   "metadata": {
    "_cell_guid": "8c64ae74-6502-4c4f-a6da-9d566bb4c762",
    "_uuid": "16ca4dea69ff9fc7200bc9f519908370073f2f88"
   },
   "outputs": [],
   "source": [
    "def GetMean(Y,R):\n",
    "\n",
    "    Y = Y*R\n",
    "    mean =  (np.sum(Y, axis=1)/np.sum((R == 1.0), axis=1)).reshape(Y.shape[0],1) * np.ones(Y.shape)\n",
    "    return mean"
   ]
  },
  {
   "cell_type": "code",
   "execution_count": 21,
   "metadata": {
    "_cell_guid": "0357b0b1-5f62-4802-a9ea-ce9a4fc810dd",
    "_uuid": "17f3a2752c897a62ea5841f085104d4644de177e"
   },
   "outputs": [],
   "source": [
    "Y = Y_overall \n",
    "Y_mean = GetMean(Y,R_train) # get the average ratings based on the training set\n",
    "Y_pred = np.zeros(Y.shape) + Y_mean # prediction \n"
   ]
  },
  {
   "cell_type": "code",
   "execution_count": 22,
   "metadata": {
    "_cell_guid": "cf810f01-b5e0-4c6c-9e52-83cd537331cd",
    "_uuid": "380c7a77ae70736fbb0b0049f83561e03c367a91"
   },
   "outputs": [],
   "source": [
    "# FCP\n",
    "# print(\"Training Set:\")\n",
    "FCP(Y,Y_pred,R_train)\n",
    "# print(\"\\n\")\n",
    "# print(\"Validation Set:\")\n",
    "FCP(Y,Y_pred,R_valid)"
   ]
  },
  {
   "cell_type": "code",
   "execution_count": 23,
   "metadata": {
    "_cell_guid": "1849df13-fa7c-4f31-b01f-f0b4d7e0b265",
    "_uuid": "8147c921a5d5f90d427fb989e032ae9b46b39e7e"
   },
   "outputs": [],
   "source": [
    "def MakeBoxplot(Y_pred, Y_true, R, title):\n",
    "    \n",
    "    data1 = Y_pred[R == 1][Y_true[R == 1] == 0]\n",
    "    data2 = Y_pred[R == 1][Y_true[R == 1] == 1]\n",
    "    data3 = Y_pred[R == 1][Y_true[R == 1] == 2]\n",
    "    data = [data1,data2,data3]\n",
    "\n",
    "    fig = plt.figure()\n",
    "    plt.boxplot(data)\n",
    "    plt.xticks([1, 2, 3],[0,1,2])\n",
    "    plt.xlabel('True Rating')\n",
    "    plt.ylabel('Predicted Rating')\n",
    "    plt.title(title)\n",
    "    plt.show()"
   ]
  },
  {
   "cell_type": "code",
   "execution_count": 24,
   "metadata": {
    "_cell_guid": "3e2ce7ab-c206-48e2-8540-8956bf18f2f9",
    "_uuid": "1c4a605f3a1d9c21735623b4be5d57c42afb6ed2"
   },
   "outputs": [],
   "source": [
    "# MakeBoxplot(Y_pred, Y, R_train, 'Training set')"
   ]
  },
  {
   "cell_type": "code",
   "execution_count": 25,
   "metadata": {
    "_cell_guid": "8a14ae8a-6991-4145-bb59-e08292bb5cf9",
    "_uuid": "8d6f95dd79078871ab7beea5cdd437ce855382c2"
   },
   "outputs": [],
   "source": [
    "# MakeBoxplot(Y_pred, Y, R_valid, 'Validation set')"
   ]
  },
  {
   "cell_type": "code",
   "execution_count": 26,
   "metadata": {
    "_cell_guid": "60270f05-690a-4176-9cb7-cf4ab4e21a7d",
    "_uuid": "b085782ff3079d90b30646a4d09876d4d688cff7"
   },
   "outputs": [],
   "source": [
    "# The parameters of the cost function are the weights of all the users, with a shape = \n",
    "# (n_user, n_feature), where n_user = 138 = number of users, and n_feature = 8 = number \n",
    "# of restaurant features (including the bias term). However, to feed the cost function \n",
    "# to SciPy's minimize(), the parameters of the function cannot be a matrix and has to be \n",
    "# a 1D vector\n",
    "\n",
    "def CostFunction(params, X, Y, R, lambd): # lambd is the L2 regularization coefficient\n",
    "    \n",
    "    num_user = R.shape[1]\n",
    "    num_feature = X.shape[1]\n",
    "\n",
    "    # reshape the parameters to a 2D matrix so we can perform matrix factorization\n",
    "    Theta = params.reshape(num_user, num_feature)\n",
    "    J = 0.5 * np.sum( (np.dot(X, Theta.T) * R - Y)**2 )\n",
    "\n",
    "    # regularization\n",
    "    J = J + lambd/2. * np.sum(Theta[:,:-1]**2) \n",
    "\n",
    "    return J\n",
    "\n",
    "\n",
    "def Gradient(params, X, Y, R, lambd):\n",
    "    \n",
    "    num_user = R.shape[1]\n",
    "    num_feature = X.shape[1]\n",
    "\n",
    "    Theta = params.reshape(num_user, num_feature)\n",
    "    Theta_grad = np.dot((np.dot(Theta, X.T) * R.T - Y.T), X)\n",
    "\n",
    "    # regularization\n",
    "    Theta_grad[:,:-1] = Theta_grad[:,:-1] + lambd*Theta[:,:-1]\n",
    "\n",
    "    return Theta_grad.reshape(-1)"
   ]
  },
  {
   "cell_type": "code",
   "execution_count": 27,
   "metadata": {
    "_cell_guid": "d82ff300-e86c-46ce-8654-4a2788684448",
    "_uuid": "a7bf8d32ef6e449def5cc4cfccbec57c2fd842a4"
   },
   "outputs": [],
   "source": [
    "def MeanNorm(Y,R):\n",
    "    \n",
    "    Y_norm = Y*R\n",
    "    mean =  (np.sum(Y_norm, axis=1)/np.sum((R == 1.0), axis=1)).reshape(Y.shape[0],1) * np.ones(Y.shape)\n",
    "    Y_norm = (Y_norm - mean)*R\n",
    "\n",
    "    return Y_norm, mean"
   ]
  },
  {
   "cell_type": "code",
   "execution_count": 28,
   "metadata": {
    "_cell_guid": "53a6c503-d39f-4829-9aa5-ff41bf26f436",
    "_uuid": "a7b117a3b72f2373b8e79fc3de2fec676ed76346"
   },
   "outputs": [
    {
     "name": "stdout",
     "output_type": "stream",
     "text": [
      "Optimization terminated successfully.\n",
      "         Current function value: 109.024339\n",
      "         Iterations: 205\n",
      "         Function evaluations: 271\n",
      "         Gradient evaluations: 271\n"
     ]
    }
   ],
   "source": [
    "Y_norm, Y_mean = MeanNorm(Y,R_train)\n",
    "\n",
    "n_user = R.shape[1]\n",
    "n_feature = X.shape[1]\n",
    "lambd = 64. # L2 regularization; I ran the optimization multiple times with different values \n",
    "            # (1, 2, 4, 8...) and 64 results in the best validation FCP\n",
    "    \n",
    "Theta = np.random.normal(0,1,(n_user, n_feature)).reshape(-1) # initialize the weights\n",
    "\n",
    "result = minimize(CostFunction, Theta, jac=Gradient, args=(X, Y_norm, R_train, lambd),\n",
    "                  options={'disp': True, 'maxiter': 500})"
   ]
  },
  {
   "cell_type": "code",
   "execution_count": 29,
   "metadata": {
    "_cell_guid": "2d9e5fc7-3cbf-41c1-8eae-d736716a2924",
    "_uuid": "c8aff2adac5fe4889fcaf96eaf1e6a5456064119"
   },
   "outputs": [],
   "source": [
    "Theta_opt = result.x.reshape(n_user, n_feature) # reshape the optimial parameters to a 2D matrix \n",
    "Y_pred = np.dot(X, Theta_opt.T) + Y_mean\n",
    "# print(\"RMSE of the training set: {}\".format(np.sqrt(mean_squared_error(Y[R_train == 1], Y_pred[R_train == 1]))))\n",
    "# print(\"RMSE of the validation set: {}\".format(np.sqrt(mean_squared_error(Y[R_valid == 1], Y_pred[R_valid == 1]))))"
   ]
  },
  {
   "cell_type": "code",
   "execution_count": 30,
   "metadata": {
    "_cell_guid": "9ac1bab3-c7c2-4357-98f8-d557bde78a25",
    "_uuid": "a83b2b703798b7f181a34b1771d28bf45123f8aa"
   },
   "outputs": [],
   "source": [
    "# print(\"Training Set:\")\n",
    "FCP(Y,Y_pred,R_train)\n",
    "# print(\"\\n\")\n",
    "# print(\"Validation Set:\")\n",
    "FCP(Y,Y_pred,R_valid)"
   ]
  },
  {
   "cell_type": "code",
   "execution_count": 31,
   "metadata": {
    "_cell_guid": "5cef565b-d197-4551-8b87-f7e937d322f0",
    "_uuid": "57fa85bd05e87a69157dea3a20efc05ef057be9b"
   },
   "outputs": [],
   "source": [
    "# MakeBoxplot(Y_pred, Y, R_train, 'Training set')"
   ]
  },
  {
   "cell_type": "code",
   "execution_count": 32,
   "metadata": {
    "_cell_guid": "8667af32-0a4e-46f9-9734-558e008761e6",
    "_uuid": "19e36cc871d4a05b202268842d058140ec94c793"
   },
   "outputs": [],
   "source": [
    "# MakeBoxplot(Y_pred, Y, R_valid, 'Validation set')"
   ]
  },
  {
   "cell_type": "code",
   "execution_count": 33,
   "metadata": {
    "_cell_guid": "535ff74c-4631-487a-a8c8-13be73468ad5",
    "_uuid": "35503a81404c99beeb93aa99a62c375c2a9f8282"
   },
   "outputs": [],
   "source": [
    "user_info = profile[['smoker','drink_level','transport','budget']]\n",
    "\n",
    "# print(user_info.smoker.value_counts())\n",
    "# print('\\n')\n",
    "# print(user_info.drink_level.value_counts())\n",
    "# print('\\n')\n",
    "# print(user_info.transport.value_counts())\n",
    "# print('\\n')\n",
    "# print(user_info.budget.value_counts())"
   ]
  },
  {
   "cell_type": "code",
   "execution_count": 34,
   "metadata": {
    "_cell_guid": "52c588e7-aea4-402d-8bb7-7b492852a1f0",
    "_uuid": "a1c61bcc7f4abccf6899042a843fd63549bccc74"
   },
   "outputs": [
    {
     "name": "stderr",
     "output_type": "stream",
     "text": [
      "/home/ashley/anaconda3/lib/python3.6/site-packages/pandas/core/generic.py:4401: SettingWithCopyWarning: \n",
      "A value is trying to be set on a copy of a slice from a DataFrame.\n",
      "Try using .loc[row_indexer,col_indexer] = value instead\n",
      "\n",
      "See the caveats in the documentation: http://pandas.pydata.org/pandas-docs/stable/indexing.html#indexing-view-versus-copy\n",
      "  self[name] = value\n"
     ]
    }
   ],
   "source": [
    "# 1 for smokers, 0 otherwise; assume '?' to be non-smokers\n",
    "user_info.smoker = user_info.smoker.map({'false': 0, 'true': 1, '?': 0})\n",
    "# map drink levels to numbers\n",
    "user_info.drink_level = user_info.drink_level.map({'abstemious': 1, 'casual drinker': 2, 'social drinker': 3})\n",
    "# 1 for car owners, 0 otherwise; assume '?' to be not car owners\n",
    "user_info.transport = user_info.transport.map({'public':0, 'car owner':1, 'on foot':0, '?':0})\n",
    "# map budget levels to numbers; assume '?' to be medium\n",
    "user_info.budget = user_info.budget.map({'medium':2, 'low':1, 'high':3, '?':2})"
   ]
  },
  {
   "cell_type": "code",
   "execution_count": 35,
   "metadata": {
    "_cell_guid": "56ebc681-2519-4bb9-9492-4bea696031ab",
    "_uuid": "e404675f6ec5973e9b85f2538935c5bd06e4663e"
   },
   "outputs": [],
   "source": [
    "# user_info.head()"
   ]
  },
  {
   "cell_type": "code",
   "execution_count": 36,
   "metadata": {
    "_cell_guid": "4331be8a-052b-4d58-95ca-881167a08172",
    "_uuid": "472066da68ba460f5239245cacaacc9402765444"
   },
   "outputs": [],
   "source": [
    "Theta_modifier = pd.DataFrame(np.ones((n_user, n_feature)), columns=X.columns.values) \n",
    "Theta_modifier['parking_lot'] = user_info['transport'] # 0 or 1\n",
    "Theta_modifier['alcohol'] = user_info['drink_level'] # 1, 2 or 3\n",
    "Theta_modifier['smoking_area'] = user_info['smoker'] # 0 or 1\n",
    "Theta_modifier['price'] = 1.0/user_info['budget'] # 1 (low), 1/2 (medium) or 1/3 (high)\n",
    "Theta_modifier = Theta_modifier.values"
   ]
  },
  {
   "cell_type": "markdown",
   "metadata": {
    "_cell_guid": "3fc6fd4c-1203-410c-bac8-48d055e6c32a",
    "_uuid": "88f0158c626f285f1eae5bcc1670520bd18d9f16"
   },
   "source": [
    "The parameters (weights) of the cost function correspond to those in \"Theta_modifier\" which has a value greater than 0"
   ]
  },
  {
   "cell_type": "code",
   "execution_count": 37,
   "metadata": {
    "_cell_guid": "5fb39571-2e54-498b-9fdf-10dcdd2c5b6b",
    "_uuid": "fe7197ef882773ab5360bacd286bc393d3c3307d"
   },
   "outputs": [],
   "source": [
    "def CostFunction2(params, X, Y, R, Theta_modifier, lambd):\n",
    "\n",
    "    num_user = R.shape[1]\n",
    "    num_feature = X.shape[1]\n",
    "\n",
    "    # reshape the Theta_modifier to 1-D\n",
    "    Theta_temp = Theta_modifier.reshape(-1)\n",
    "    # elements with non-zero values in Theta_modifier are multiplied to the input weights\n",
    "    Theta_temp[Theta_temp > 0] = Theta_temp[Theta_temp > 0] * params\n",
    "    \n",
    "    # reshape the parameters to a 2D matrix so we can perform matrix factorization.\n",
    "    # Elements with zero values in Theta_modifier always remain 0 in this matrix (for those \n",
    "    # users who don't have a car and those who don't smoke)\n",
    "    Theta = Theta_temp.reshape(num_user, num_feature)\n",
    "    J = 0.5 * np.sum( (np.dot(X, Theta.T) * R - Y)**2 )\n",
    "\n",
    "    # regularization\n",
    "    J = J + lambd/2. * np.sum(Theta[:,:-1]**2) \n",
    "\n",
    "    return J\n",
    "\n",
    "\n",
    "def Gradient2(params, X, Y, R, Theta_modifier, lambd):\n",
    "\n",
    "    num_user = R.shape[1]\n",
    "    num_feature = X.shape[1]\n",
    "\n",
    "    Theta_temp = Theta_modifier.reshape(-1)\n",
    "    Theta_temp[Theta_temp > 0] = Theta_temp[Theta_temp > 0] * params\n",
    "\n",
    "    Theta = Theta_temp.reshape(num_user, num_feature)\n",
    "    Theta_grad = np.dot((np.dot(Theta, X.T) * R.T - Y.T), X) \n",
    "\n",
    "    # regularization\n",
    "    Theta_grad[:,:-1] = Theta_grad[:,:-1] + lambd*Theta[:,:-1]\n",
    "    Theta_grad = Theta_grad * Theta_modifier\n",
    "\n",
    "    Theta_grad = Theta_grad[Theta_modifier > 0]\n",
    "    \n",
    "    return Theta_grad"
   ]
  },
  {
   "cell_type": "code",
   "execution_count": 38,
   "metadata": {
    "_cell_guid": "9435fb2e-0a11-4fc8-a9f6-ff9d3167e3ee",
    "_uuid": "edb5f2be7760b476c9bca9d08472c394f412f2bb"
   },
   "outputs": [
    {
     "name": "stdout",
     "output_type": "stream",
     "text": [
      "Optimization terminated successfully.\n",
      "         Current function value: 110.032844\n",
      "         Iterations: 225\n",
      "         Function evaluations: 272\n",
      "         Gradient evaluations: 272\n"
     ]
    }
   ],
   "source": [
    "lambd = 64. # L2 regularization; I ran the optimization multiple times with different values \n",
    "            # (1, 2, 4, 8...) and 64 results in the best validation FCP\n",
    "    \n",
    "Theta = np.random.normal(0,1,(n_user, n_feature))[Theta_modifier > 0] # initialize the weights\n",
    "\n",
    "result = minimize(CostFunction2, Theta, jac=Gradient2, args=(X, Y_norm, R_train, Theta_modifier, \n",
    "                  lambd), options={'disp': True, 'maxiter': 500})"
   ]
  },
  {
   "cell_type": "code",
   "execution_count": 39,
   "metadata": {
    "_cell_guid": "dea6be86-2c5b-4016-b5cf-6291461f7ad5",
    "_uuid": "99eb1f017ed87ad7350cb687718977293f6884e1"
   },
   "outputs": [],
   "source": [
    "# elements with non-zero values in Theta_modifier are multiplied to the optimal weights\n",
    "Theta_transformer = Theta_modifier.reshape(-1)\n",
    "Theta_transformer[Theta_transformer > 0] = Theta_transformer[Theta_transformer > 0] * result.x\n",
    "# reshape the parameters to a 2D matrix \n",
    "Theta_opt = Theta_transformer.reshape(n_user, n_feature)\n",
    "\n",
    "Y_pred = np.dot(X, Theta_opt.T) + Y_mean\n",
    "# print(\"RMSE of the training set: {}\".format(np.sqrt(mean_squared_error(Y[R_train == 1], Y_pred[R_train == 1]))))\n",
    "# print(\"RMSE of the validation set: {}\".format(np.sqrt(mean_squared_error(Y[R_valid == 1], Y_pred[R_valid == 1]))))"
   ]
  },
  {
   "cell_type": "code",
   "execution_count": 40,
   "metadata": {
    "_cell_guid": "5e3181d5-a384-419b-870c-39fa51cb4b5c",
    "_uuid": "a53f991b27d8752cd397b0be116b9cd1a2aacfc3"
   },
   "outputs": [
    {
     "name": "stdout",
     "output_type": "stream",
     "text": [
      "Training Set:\n",
      "\n",
      "\n",
      "Validation Set:\n"
     ]
    }
   ],
   "source": [
    "print(\"Training Set:\")\n",
    "FCP(Y,Y_pred,R_train)\n",
    "print(\"\\n\")\n",
    "print(\"Validation Set:\")\n",
    "FCP(Y,Y_pred,R_valid)"
   ]
  },
  {
   "cell_type": "code",
   "execution_count": 41,
   "metadata": {
    "_cell_guid": "c2951cb7-43f7-4cab-b9ef-f0afa7601049",
    "_uuid": "fbbf4864a4aecbc3f2cf73a7467a6466259bd6f8"
   },
   "outputs": [],
   "source": [
    "# MakeBoxplot(Y_pred, Y, R_train, 'Training set')"
   ]
  },
  {
   "cell_type": "code",
   "execution_count": 42,
   "metadata": {
    "_cell_guid": "d1f73317-721f-47ab-8282-d60f91f4c2fc",
    "_uuid": "80f2bfb12ae8368f309a23ab6abb49f80c5af54c"
   },
   "outputs": [],
   "source": [
    "# MakeBoxplot(Y_pred, Y, R_valid, 'Validation set')"
   ]
  },
  {
   "cell_type": "code",
   "execution_count": 44,
   "metadata": {
    "_cell_guid": "41b5776e-690f-4acc-8768-974b0184f242",
    "_uuid": "70a9a9f2fbfb9625bd72843f58335a9c5c80d375"
   },
   "outputs": [
    {
     "name": "stdout",
     "output_type": "stream",
     "text": [
      "           U1001     U1002     U1003     U1004     U1005     U1006     U1007  \\\n",
      "132560  0.163740  0.604283  0.456769  0.681650  0.354380  0.582535  0.042386   \n",
      "132561  0.545511  0.988817  0.811936  0.987383  0.686475  0.928679  0.406147   \n",
      "132564  1.128844  1.572150  1.395270  1.570717  1.269808  1.512012  0.989481   \n",
      "132572  0.801921  1.245227  1.068347  1.243794  0.942885  0.000000  0.000000   \n",
      "132583  1.187958  1.629883  1.467686  1.667850  1.353761  1.588747  1.057600   \n",
      "132584  1.080580  1.508499  1.336185  1.527617  1.228344  1.446177  0.931874   \n",
      "132594  0.878844  1.322150  1.145270  1.320717  1.019808  1.252102  0.739481   \n",
      "132608  0.378844  0.822150  0.645270  0.820717  0.519808  0.762398  0.239481   \n",
      "132609  0.478844  0.922150  0.745270  0.920717  0.619808  0.842191  0.339481   \n",
      "132613  0.880580  1.308499  1.136185  1.327617  1.028344  1.256474  0.731874   \n",
      "132626  1.380580  1.808499  1.636185  1.827617  1.528344  1.746177  1.231874   \n",
      "132630  1.128844  1.572150  1.395270  1.570717  1.269808  1.512012  0.989481   \n",
      "132654  0.128844  0.572150  0.395270  0.570717  0.269808  0.512012 -0.010519   \n",
      "132660  1.128844  1.572150  1.395270  1.570717  1.269808  1.512012  0.989481   \n",
      "132663  0.545511  0.988817  0.811936  0.987383  0.686475  0.928679  0.406147   \n",
      "132665  0.878844  1.322150  1.145270  1.320717  1.019808  1.262012  0.739481   \n",
      "132667  1.128844  1.572150  1.395270  1.570717  1.269808  1.512012  0.989481   \n",
      "132668  0.878844  1.322150  1.145270  1.320717  1.019808  1.262012  0.739481   \n",
      "132706  0.165476  0.590631  0.447685  0.688550  0.362915  0.576225  0.034779   \n",
      "132715  0.830406  1.270949  1.123436  1.348316  1.021046  1.248816  0.709053   \n",
      "132717  0.856361  1.282898  1.125268  1.341416  1.028963  1.249490  0.716660   \n",
      "132723  1.140244  1.564548  0.000000  1.582791  1.280555  1.525413  0.983943   \n",
      "132732  0.593130  1.036436  0.859555  1.035002  0.734094  0.976298  0.453766   \n",
      "132733  1.047247  1.475165  1.302851  1.494283  1.195011  1.412844  0.898540   \n",
      "132740  0.478844  0.922150  0.745270  0.920717  0.619808  0.872309  0.339481   \n",
      "132754  1.256361  1.682898  0.000000  1.741416  1.428963  1.659400  1.116660   \n",
      "132755  1.356361  1.782898  0.000000  1.836403  1.528963  1.749202  1.216660   \n",
      "132766  0.341806  0.763347  0.593752  0.860390  0.531793  0.742010  0.203515   \n",
      "132767  1.266025  1.688947  1.504668  1.741577  1.431174  1.658616  1.118729   \n",
      "132768  1.731361  2.157898  2.000268  2.216416  1.903963  2.134400  1.591660   \n",
      "...          ...       ...       ...       ...       ...       ...       ...   \n",
      "135054  0.944990  1.354758  1.216377  1.473227  1.149229  1.348078  0.804949   \n",
      "135055  1.433879  1.843646  1.705266  1.962116  1.638118  1.847263  1.293838   \n",
      "135057  1.091806  1.513347  1.343752  1.610390  0.000000  1.502306  0.000000   \n",
      "135058  0.985989  1.411144  1.268197  1.509062  1.183428  1.396738  0.000000   \n",
      "135059  1.441806  0.000000  0.000000  1.960390  1.631793  1.852306  1.303515   \n",
      "135060  1.109920  1.535076  1.392129  0.000000  1.307360  1.530580  0.979223   \n",
      "135062  1.054365  0.000000  1.336573  0.000000  1.251804  1.455203  0.923668   \n",
      "135063  1.232142  1.657298  1.514351  1.755216  1.429582  1.652802  1.101445   \n",
      "135064  0.917212  1.326980  0.000000  1.445450  1.121451  1.320300  0.777172   \n",
      "135065  0.843542  1.249696  1.084667  1.367290  1.040328  1.276113  0.695908   \n",
      "135066  1.218542  1.624696  1.459667  1.742290  0.000000  1.631292  1.070908   \n",
      "135069  0.395625  0.832554  0.658392  0.909046  0.578812  0.793579  0.266678   \n",
      "135070  0.498809  0.923965  0.781018  1.021883  0.696249  0.899648  0.368112   \n",
      "135071  0.984663  1.406204  1.236609  1.503248  1.174650  1.395163  0.846372   \n",
      "135072  0.832142  1.257298  1.114351  1.355216  1.029582  1.252802  0.701445   \n",
      "135073  1.343542  1.749696  1.584667  1.867290  1.540328  1.756292  1.195908   \n",
      "135074  1.593542  1.999696  1.834667  2.117290  1.790328  2.016202  1.445908   \n",
      "135075  1.832142  2.257298  0.000000  2.355216  2.029582  0.000000  1.701445   \n",
      "135076  1.093542  1.499696  1.334667  1.617290  0.000000  1.495996  0.945908   \n",
      "135079  1.048164  1.457932  0.000000  1.576402  1.252404  0.000000  0.908124   \n",
      "135080  0.833879  1.243646  0.000000  1.362116  1.038118  1.267084  0.693838   \n",
      "135081  1.207142  1.632298  1.489351  1.730216  1.404582  1.627802  1.076445   \n",
      "135082  0.998809  1.423965  1.281018  1.521883  1.196249  1.419469  0.868112   \n",
      "135085  0.000000  0.000000  1.575890  1.816755  1.491121  1.704430  0.000000   \n",
      "135086  0.609920  1.035076  0.892129  1.132994  0.807360  1.010759  0.000000   \n",
      "135088  1.080406  1.520949  1.373436  1.598316  1.271046  1.488905  0.959053   \n",
      "135104  0.747387  1.171690  0.972728  1.184920  0.887697  1.112061  0.591086   \n",
      "135106  1.008882  0.000000  1.247525  0.000000  1.174031  1.421582  0.861586   \n",
      "135108  0.989955  1.433261  1.256381  1.431828  1.130919  1.373123  0.000000   \n",
      "135109  1.175139  1.596680  1.427085  1.688710  1.365126  1.594876  1.036848   \n",
      "\n",
      "           U1008     U1009     U1010    ...        U1129     U1130     U1131  \\\n",
      "132560  0.409461  0.709452  0.316296    ...     0.241337  0.275990  0.497432   \n",
      "132561  0.754006  1.017195  0.669804    ...     0.000000  0.000000  0.837818   \n",
      "132564  1.337339  1.600529  1.253137    ...     1.172855  1.148102  1.421151   \n",
      "132572  1.010416  1.273605  0.885864    ...     0.845932  0.821179  1.134477   \n",
      "132583  1.415067  1.696657  1.336471    ...     1.248762  1.253713  1.490896   \n",
      "132584  1.294859  1.550362  1.153955    ...     1.119142  1.109241  1.431834   \n",
      "132594  1.087339  1.350529  0.982962    ...     0.922855  0.898102  1.191276   \n",
      "132608  0.587339  0.850529  0.482962    ...     0.422855  0.398102  0.691276   \n",
      "132609  0.687339  0.950529  0.562787    ...     0.522855  0.498102  0.811400   \n",
      "132613  1.094859  1.350362  0.953955    ...     0.919142  0.909241  1.231834   \n",
      "132626  1.594859  1.850362  1.453955    ...     1.419142  0.000000  1.731834   \n",
      "132630  1.337339  1.600529  1.253137    ...     1.172855  1.148102  1.421151   \n",
      "132654  0.337339  0.600529  0.253137    ...     0.000000  0.000000  0.421151   \n",
      "132660  1.337339  1.600529  1.253137    ...     1.172855  1.148102  1.421151   \n",
      "132663  0.754006  1.017195  0.669804    ...     0.589521  0.564769  0.837818   \n",
      "132665  1.087339  1.350529  1.003137    ...     0.000000  0.898102  1.171151   \n",
      "132667  1.337339  1.600529  1.253137    ...     1.172855  1.148102  1.421151   \n",
      "132668  1.087339  1.350529  1.003137    ...     0.922855  0.898102  1.171151   \n",
      "132706  0.416981  0.709285  0.307464    ...     0.000000  0.000000  0.517866   \n",
      "132715  1.076128  1.376119  1.003137    ...     0.908003  0.942657  1.143974   \n",
      "132717  1.089253  1.363157  0.974131    ...     0.911716  0.931518  1.198121   \n",
      "132723  1.364154  1.609990  1.222254    ...     1.169142  1.159241  1.461710   \n",
      "132732  0.801625  1.064814  0.717423    ...     0.637140  0.612388  0.885437   \n",
      "132733  1.261526  1.517028  1.120622    ...     1.085809  1.075908  1.398500   \n",
      "132740  0.687339  0.950529  0.603137    ...     0.522855  0.498102  0.771151   \n",
      "132754  1.489253  0.000000  1.394306    ...     1.311716  1.331518  1.577997   \n",
      "132755  1.589253  1.863157  1.474131    ...     1.411716  1.431518  1.698121   \n",
      "132766  0.602943  0.885581  0.452079    ...     0.404290  0.453795  0.704657   \n",
      "132767  1.508548  1.772786  1.352079    ...     1.311716  1.331518  1.618245   \n",
      "132768  1.964253  2.238157  1.869306    ...     1.786716  1.806518  2.052997   \n",
      "...          ...       ...       ...    ...          ...       ...       ...   \n",
      "135054  0.000000  1.486896  1.056235    ...     1.011689  1.076045  0.000000   \n",
      "135055  1.691168  1.975785  1.545124    ...     1.500578  1.564934  1.825091   \n",
      "135057  1.352943  1.635581  1.202079    ...     1.154290  1.203795  1.454657   \n",
      "135058  1.237494  0.000000  0.000000    ...     1.058137  1.107642  1.338379   \n",
      "135059  1.702943  0.000000  1.552079    ...     1.504290  1.553795  1.804657   \n",
      "135060  1.361425  0.000000  1.272084    ...     1.182068  1.231573  1.442186   \n",
      "135062  1.305870  1.598174  1.176178    ...     1.126513  1.176018  1.426879   \n",
      "135063  1.483648  0.000000  1.394306    ...     1.304290  1.353795  1.564408   \n",
      "135064  1.174501  1.459118  0.000000    ...     0.983911  1.048267  1.308424   \n",
      "135065  1.110463  1.385414  0.000000    ...     0.900578  0.964934  1.184842   \n",
      "135066  1.485463  1.760414  1.318247    ...     1.275578  1.339934  1.600091   \n",
      "135069  0.000000  0.941303  0.516466    ...     0.463559  0.498212  0.739778   \n",
      "135070  0.750314  1.042619  0.620622    ...     0.570957  0.620462  0.871323   \n",
      "135071  1.245800  1.528438  1.094936    ...     1.047148  1.096653  1.347514   \n",
      "135072  1.083648  1.375952  0.994306    ...     0.904290  0.953795  1.164408   \n",
      "135073  1.610463  1.885414  1.443247    ...     1.400578  1.464934  1.725091   \n",
      "135074  1.860463  2.135414  1.713423    ...     1.650578  1.714934  1.954966   \n",
      "135075  2.083648  2.375952  1.953955    ...     1.904290  1.953795  2.204657   \n",
      "135076  1.360463  1.635414  0.000000    ...     1.150578  1.214934  1.475091   \n",
      "135079  1.305454  0.000000  0.000000    ...     1.114863  1.179220  1.399128   \n",
      "135080  1.091168  1.375785  0.985474    ...     0.900578  0.964934  1.184842   \n",
      "135081  1.458648  1.750952  1.369306    ...     1.279290  1.328795  1.539408   \n",
      "135082  1.250314  1.542619  1.160973    ...     1.070957  1.120462  0.000000   \n",
      "135085  1.545186  1.837490  1.435669    ...     1.365829  1.415334  1.646071   \n",
      "135086  0.861425  1.153730  0.731733    ...     0.682068  0.731573  0.982434   \n",
      "135088  1.326128  1.626119  1.232962    ...     1.158003  1.192657  1.414099   \n",
      "135104  0.971297  1.217133  0.809222    ...     0.776285  0.766384  1.088977   \n",
      "135106  1.251405  1.515643  1.135287    ...     1.054573  1.074375  1.320854   \n",
      "135108  0.000000  1.461640  1.114249    ...     1.033966  1.009213  1.282263   \n",
      "135109  1.436276  1.718914  1.325763    ...     1.237624  1.287129  1.497742   \n",
      "\n",
      "           U1132     U1133     U1134     U1135     U1136     U1137     U1138  \n",
      "132560  0.652353  0.372582  0.296975 -0.880664  0.547155  0.787210  0.834625  \n",
      "132561  1.005382  0.644856  0.563836 -0.535511  0.911746  1.171390  1.167959  \n",
      "132564  1.588715  1.228189  1.147169  0.047822  1.495079  1.754724  1.751292  \n",
      "132572  1.261792  0.943213  0.000000 -0.279101  1.176240  1.427801  1.424369  \n",
      "132583  1.662201  1.331566  1.263739  0.125245  1.566483  1.812633  1.834625  \n",
      "132584  1.544786  1.214689  1.125652 -0.010563  1.442840  1.697080  1.698708  \n",
      "132594  1.338715  0.999163  0.897169 -0.202178  1.249121  1.504724  1.501292  \n",
      "132608  0.838715  0.499163  0.397169 -0.702178  0.737681  1.004724  1.001292  \n",
      "132609  0.938715  0.620136  0.497169 -0.602178  0.853163  1.104724  1.101292  \n",
      "132613  1.344786  1.014689  0.925652 -0.210563  1.231400  1.497080  1.498708  \n",
      "132626  1.844786  1.514689  1.425652  0.289437  1.742840  1.997080  1.998708  \n",
      "132630  1.588715  1.228189  1.147169  0.047822  1.495079  1.754724  1.751292  \n",
      "132654  0.588715  0.228189  0.147169 -0.952178  0.495079  0.754724  0.751292  \n",
      "132660  1.588715  1.228189  1.147169  0.047822  1.495079  1.754724  1.751292  \n",
      "132663  1.005382  0.644856  0.563836 -0.535511  0.911746  1.171390  1.167959  \n",
      "132665  1.338715  0.978189  0.897169 -0.202178  1.245079  1.504724  1.501292  \n",
      "132667  1.588715  1.228189  1.147169  0.047822  1.495079  1.754724  1.751292  \n",
      "132668  1.338715  0.978189  0.897169 -0.202178  1.245079  1.504724  1.501292  \n",
      "132706  0.658423  0.367136  0.325458 -0.889050  0.548272  0.779566  0.832041  \n",
      "132715  1.319020  1.018276  0.963642 -0.213998  1.221219  1.453877  1.501292  \n",
      "132717  1.334938  1.013759  0.958889 -0.216473  1.226868  1.471656  1.498708  \n",
      "132723  1.611955  1.245551  1.171580  0.043366  1.469111  0.000000  1.748708  \n",
      "132732  1.053001  0.692475  0.611455 -0.487892  0.959365  1.219009  1.215578  \n",
      "132733  1.511452  1.181356  1.092319 -0.043897  1.409507  1.663746  1.665375  \n",
      "132740  0.938715  0.578189  0.497169 -0.602178  0.833639  1.104724  1.101292  \n",
      "132754  1.734938  1.392786  0.000000  0.183527  1.622827  1.871656  1.898708  \n",
      "132755  1.834938  1.503655  1.458889  0.283527  1.726868  0.000000  1.998708  \n",
      "132766  0.842259  0.000000  0.488053 -0.718453  0.710733  0.948658  0.998708  \n",
      "132767  1.752107  0.000000  1.354817  0.187457  1.611223  1.874517  1.898708  \n",
      "132768  2.209938  1.867786  1.833889  0.658527  2.097827  2.346656  2.373708  \n",
      "...          ...       ...       ...       ...       ...       ...       ...  \n",
      "135054  1.442272  1.160440  1.131719 -0.119658  1.319769  1.549700  1.607235  \n",
      "135055  1.931160  1.649329  0.000000  0.369231  0.000000  2.038589  2.096124  \n",
      "135057  1.592259  1.306611  1.238053  0.031547  1.449294  1.698658  1.748708  \n",
      "135058  1.478936  1.187648  1.145971 -0.000000  1.368785  0.000000  1.652554  \n",
      "135059  1.942259  1.656611  0.000000  0.381547  1.799294  0.000000  2.098708  \n",
      "135060  1.602868  1.290607  1.269903  0.000000  1.488675  1.724011  1.776486  \n",
      "135062  0.000000  1.276998  1.214347 -0.000161  1.441203  0.000000  1.720930  \n",
      "135063  1.725090  1.412829  1.392125  0.000000  1.610897  1.846233  1.898708  \n",
      "135064  1.414494  1.132662  0.000000 -0.147435  0.000000  1.521922  1.579457  \n",
      "135065  1.348329  1.009217  0.000000 -0.226839  1.180887  1.441014  1.496124  \n",
      "135066  1.723329  1.426164  1.391537  0.148161  1.563971  1.816014  1.871124  \n",
      "135069  0.891744  0.617613  0.515126 -0.654512  0.776612  1.011857  1.056848  \n",
      "135070  0.991757  0.721442  0.658792 -0.555717  0.885647  1.112900  1.165375  \n",
      "135071  1.485116  1.199468  1.130910 -0.075596  1.342151  1.591515  1.641565  \n",
      "135072  1.325090  1.012829  0.992125 -0.222383  0.000000  1.446233  1.498708  \n",
      "135073  1.848329  1.551164  1.516537  0.273161  1.688971  1.941014  1.996124  \n",
      "135074  2.098329  1.780190  0.000000  0.523161  0.000000  2.191014  2.246124  \n",
      "135075  2.325090  2.054776  0.000000  0.777617  2.218981  0.000000  2.498708  \n",
      "135076  1.598329  1.301164  1.266537  0.023161  1.450411  1.691014  1.746124  \n",
      "135079  1.545446  1.221668  0.000000 -0.016483  1.414860  1.652875  1.710410  \n",
      "135080  1.331160  1.007382  0.000000 -0.230769  1.189134  1.438589  1.496124  \n",
      "135081  1.700090  1.387829  1.367125  0.152617  1.585897  1.821233  1.873708  \n",
      "135082  1.491757  1.179496  1.158792 -0.055717  1.377564  1.612900  1.665375  \n",
      "135085  0.000000  1.495341  0.000000  0.000000  1.676477  0.000000  1.960247  \n",
      "135086  1.102868  0.832553  0.769903 -0.444605  0.996758  1.224011  1.276486  \n",
      "135088  1.569020  1.289249  1.213642  0.036002  1.475261  1.703877  1.751292  \n",
      "135104  1.219098  0.863563  0.778723 -0.349491  1.091736  1.357084  1.355851  \n",
      "135106  1.494964  1.137478  1.097674 -0.000000  1.345997  1.616938  1.641565  \n",
      "135108  1.449826  1.089301  1.008280 -0.091067  1.356190  1.615835  1.612403  \n",
      "135109  1.675592  1.337893  1.321387  0.114880  1.535983  1.782427  1.832041  \n",
      "\n",
      "[130 rows x 138 columns]\n"
     ]
    }
   ],
   "source": [
    "R_test =  R*(-1) + 1.0 # 1 for those without existing ratings, 0 otherwise\n",
    "\n",
    "# predicted ratings for the restaurants that each user hasn't visited\n",
    "Y_final = Y_pred * R_test\n",
    "Y_final = pd.DataFrame( Y_final, columns=user_all, index=res_rated )\n",
    "print(Y_final)"
   ]
  },
  {
   "cell_type": "code",
   "execution_count": null,
   "metadata": {},
   "outputs": [],
   "source": []
  }
 ],
 "metadata": {
  "kernelspec": {
   "display_name": "Python 3",
   "language": "python",
   "name": "python3"
  },
  "language_info": {
   "codemirror_mode": {
    "name": "ipython",
    "version": 3
   },
   "file_extension": ".py",
   "mimetype": "text/x-python",
   "name": "python",
   "nbconvert_exporter": "python",
   "pygments_lexer": "ipython3",
   "version": "3.6.5"
  }
 },
 "nbformat": 4,
 "nbformat_minor": 1
}
